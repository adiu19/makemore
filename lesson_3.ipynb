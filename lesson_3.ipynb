{
  "nbformat": 4,
  "nbformat_minor": 0,
  "metadata": {
    "colab": {
      "provenance": []
    },
    "kernelspec": {
      "name": "python3",
      "display_name": "Python 3"
    },
    "language_info": {
      "name": "python"
    }
  },
  "cells": [
    {
      "cell_type": "markdown",
      "source": [
        "# Benjio Paper Discussion\n",
        "\n",
        "- Vocabulary of 17,000 words\n",
        "- Operating at the level of words, not characters\n",
        "- Each word is converted to a 30-dimensional space. Initially, each embedding is randomized. The idea is that through learning, 'similar' words will have 'similar' vectors in the 30-D space\n",
        "- Every word is embedded into a 30-dimensional space\n",
        "- A MLP is used to predict the next word, given previous words, and NLL is used to compute loss function.\n",
        "- A lookup table C (17000,30). Every index is plucking out a row of the embedding matrix so that each index is converted to a 30-dimensional embedding of the word.\n",
        "- The lookup table C is shared across words.\n",
        "- Three previous words are sent as inputs to the NN - which means the input layer has 30 neurons for 3 words making up 90 neurons in total.\n",
        "- The size of the hidden layer is a hyerparameter (design choice by the person who designs the architecture of the neural network). We'll experiment with multiple sizes here.\n",
        "- Let's assume that size = 100 for hidden layer which means there are 100 neurons.\n",
        "- All of them are fully connected to the 90 'numbers' that make up the three input words.\n",
        "- Because our vocabulary size is 17000 words, there are 17000 options for the output layer. Which means, it would have 17000 neurons and all of them are fully-connected to the hidden layer.\n",
        "- 17000 neurons mean that we have 17000 logits - we exponentiate them, normalize them, and get a probability distribution that sums to 1.\n",
        "- Based on oru training set, we have the next word available to us. Based on the next word, we pluck out it's probability from this distribution and we then try to maximize the probability by tuning our weights and biases (and embedding layer C)."
      ],
      "metadata": {
        "id": "kOTI6Q9j5tcY"
      }
    },
    {
      "cell_type": "code",
      "source": [
        "import torch\n",
        "import torch.nn.functional as F\n",
        "import matplotlib.pyplot as plt"
      ],
      "metadata": {
        "id": "TXoxJwJ98XMo"
      },
      "execution_count": null,
      "outputs": []
    },
    {
      "cell_type": "code",
      "source": [
        "%matplotlib inline"
      ],
      "metadata": {
        "id": "n0mOmW8S9tb8"
      },
      "execution_count": null,
      "outputs": []
    },
    {
      "cell_type": "code",
      "source": [
        "words = open('names.txt', 'r').read().splitlines()\n",
        "len(words)"
      ],
      "metadata": {
        "colab": {
          "base_uri": "https://localhost:8080/"
        },
        "id": "l8H2-FhR9ur8",
        "outputId": "d3d56fe1-e940-4ee3-d7b0-5414296f7f1a"
      },
      "execution_count": null,
      "outputs": [
        {
          "output_type": "execute_result",
          "data": {
            "text/plain": [
              "32033"
            ]
          },
          "metadata": {},
          "execution_count": 24
        }
      ]
    },
    {
      "cell_type": "code",
      "source": [
        "# build vocabulary of character\n",
        "chars = sorted(set(''.join(words)))\n",
        "stoi = {s:i+1 for i,s in enumerate(chars)} # enumerate gives us iterator over integer index and elements of the list\n",
        "# we are using one special token - '.' to indicate start and end\n",
        "stoi['.'] = 0\n",
        "\n",
        "# reverse mapping, index to character\n",
        "itos = {i:s for s,i in stoi.items()}"
      ],
      "metadata": {
        "id": "5Z8fiKLW93mk"
      },
      "execution_count": null,
      "outputs": []
    },
    {
      "cell_type": "code",
      "source": [
        "# build dataset\n",
        "\n",
        "block_size = 3 # context length: how many characters do we take to predict the next one?\n",
        "\n",
        "# X = input to NN, Y = label for each example\n",
        "X, Y = [], []\n",
        "for w in words:\n",
        "  # print(w)\n",
        "  context = [0] * block_size # padded context [0,0,0] which is equivalent to the context '...'\n",
        "  for ch in w + '.':\n",
        "    ix = stoi[ch]\n",
        "    X.append(context)\n",
        "    Y.append(ix)\n",
        "    # print(''.join(itos[i] for i in context), '--->', itos[ix])\n",
        "    context = context[1:] + [ix] # crop and append to get rolling window\n",
        "X = torch.tensor(X)\n",
        "Y = torch.tensor(Y)"
      ],
      "metadata": {
        "id": "9JwP-EBk-Fry"
      },
      "execution_count": null,
      "outputs": []
    },
    {
      "cell_type": "code",
      "source": [
        "def build_dataset(words):\n",
        "  block_size = 3 # context length: how many characters do we take to predict the next one?\n",
        "\n",
        "  # X = input to NN, Y = label for each example\n",
        "  X, Y = [], []\n",
        "  for w in words:\n",
        "    # print(w)\n",
        "    context = [0] * block_size # padded context [0,0,0] which is equivalent to the context '...'\n",
        "    for ch in w + '.':\n",
        "      ix = stoi[ch]\n",
        "      X.append(context)\n",
        "      Y.append(ix)\n",
        "      # print(''.join(itos[i] for i in context), '--->', itos[ix])\n",
        "      context = context[1:] + [ix] # crop and append to get rolling window\n",
        "  X = torch.tensor(X)\n",
        "  Y = torch.tensor(Y)\n",
        "  return X,Y\n",
        "\n",
        "import random\n",
        "random.seed(42)\n",
        "random.shuffle(words)\n",
        "n1 = int(0.8*len(words))\n",
        "n2 = int(0.9*len(words))\n",
        "\n",
        "X,Y = build_dataset(words)\n",
        "Xtr, Ytr = build_dataset(words[:n1])\n",
        "Xdev, Ydev = build_dataset(words[n1:n2])\n",
        "Xte, Yte = build_dataset(words[n2:])"
      ],
      "metadata": {
        "id": "ghXHB_O3uCTf"
      },
      "execution_count": null,
      "outputs": []
    },
    {
      "cell_type": "code",
      "source": [
        "X.shape, X.dtype"
      ],
      "metadata": {
        "colab": {
          "base_uri": "https://localhost:8080/"
        },
        "id": "X4N_XBJd-qhG",
        "outputId": "f3256869-d83b-4abc-8342-5ed53a7ddd56"
      },
      "execution_count": null,
      "outputs": [
        {
          "output_type": "execute_result",
          "data": {
            "text/plain": [
              "(torch.Size([228146, 3]), torch.int64)"
            ]
          },
          "metadata": {},
          "execution_count": 160
        }
      ]
    },
    {
      "cell_type": "code",
      "source": [
        "Y.shape, Y.dtype"
      ],
      "metadata": {
        "colab": {
          "base_uri": "https://localhost:8080/"
        },
        "id": "M_6xCrWa_VLX",
        "outputId": "e6272207-d821-44a2-cdef-4a205e3cccd9"
      },
      "execution_count": null,
      "outputs": [
        {
          "output_type": "execute_result",
          "data": {
            "text/plain": [
              "(torch.Size([32]), torch.int64)"
            ]
          },
          "metadata": {},
          "execution_count": 88
        }
      ]
    },
    {
      "cell_type": "code",
      "source": [
        "# building embedding lookup table C"
      ],
      "metadata": {
        "id": "V8eFjxCl_WW9"
      },
      "execution_count": null,
      "outputs": []
    },
    {
      "cell_type": "code",
      "source": [
        "# We have 27 possible characters and we are going to embed them into a smaller space.\n",
        "# In the paper, they have 17000 words, and they cram them into a 30-dimensional space.\n",
        "# (Efficiency: going from 17,000 one-hot dim to 30-dim massively reduces compute.)\n",
        "\n",
        "# We will use 2-dimensional space"
      ],
      "metadata": {
        "id": "olsPK2VX_1rd"
      },
      "execution_count": null,
      "outputs": []
    },
    {
      "cell_type": "code",
      "source": [
        "C = torch.randn([27,2]) # each character will have a two-dimensional embedding"
      ],
      "metadata": {
        "id": "JU1mMdhFARlj"
      },
      "execution_count": null,
      "outputs": []
    },
    {
      "cell_type": "code",
      "source": [
        "C[5]"
      ],
      "metadata": {
        "colab": {
          "base_uri": "https://localhost:8080/"
        },
        "id": "GEfNYHp_ATZ0",
        "outputId": "db7c2b1e-a7ea-4714-a846-96f9595da3b0"
      },
      "execution_count": null,
      "outputs": [
        {
          "output_type": "execute_result",
          "data": {
            "text/plain": [
              "tensor([-0.4016,  1.2857])"
            ]
          },
          "metadata": {},
          "execution_count": 92
        }
      ]
    },
    {
      "cell_type": "code",
      "source": [
        "F.one_hot(torch.tensor(5), num_classes = 27).float() @ C"
      ],
      "metadata": {
        "colab": {
          "base_uri": "https://localhost:8080/"
        },
        "id": "CyPrfsTzAgi7",
        "outputId": "f977c97b-1911-40a3-d2f9-48e3594b1c18"
      },
      "execution_count": null,
      "outputs": [
        {
          "output_type": "execute_result",
          "data": {
            "text/plain": [
              "tensor([-0.4016,  1.2857])"
            ]
          },
          "metadata": {},
          "execution_count": 93
        }
      ]
    },
    {
      "cell_type": "code",
      "source": [
        "# why do we have to do this instead of just C[5] ??!\n",
        "# interpret the embedding as\n",
        "# either integer indexing into the lookup table C\n",
        "# or as a first layer of the NN. the layer has no non-linearity\n",
        "\n",
        "# we are going to use indexing because it is easier"
      ],
      "metadata": {
        "id": "tBDIMpunAneG"
      },
      "execution_count": null,
      "outputs": []
    },
    {
      "cell_type": "code",
      "source": [
        "# we just embedded a single character. but how do we batch embed X, which has a context length of 3 and multiple inputs?\n",
        "\n",
        "# pytorch allows us to index using multi-dimensional tensors. In our case, we have a tensor X which we're going to index\n",
        "C[X].shape"
      ],
      "metadata": {
        "colab": {
          "base_uri": "https://localhost:8080/"
        },
        "id": "1_pKKw7KBxSG",
        "outputId": "0c723f69-8036-4d27-9278-a87c42d36f49"
      },
      "execution_count": null,
      "outputs": [
        {
          "output_type": "execute_result",
          "data": {
            "text/plain": [
              "torch.Size([32, 3, 2])"
            ]
          },
          "metadata": {},
          "execution_count": 95
        }
      ]
    },
    {
      "cell_type": "markdown",
      "source": [
        "# Getting a hang of indexing into embeddings!\n",
        "\n",
        "```\n",
        "C = torch.randn([27, 2])\n",
        "```\n",
        "\n",
        "\n",
        "Shape: (27, 2)\n",
        "Meaning:\n",
        "- 27 rows = one row per character in the vocab.\n",
        "- 2 columns = the 2-dimensional embedding for each character.\n",
        "\n",
        "\n",
        "X here is our training data tensor, something like:\n",
        "\n",
        "```\n",
        "X.shape = (32, 3)\n",
        "```\n",
        "\n",
        "- 32 = batch size (we are training on 32 examples at once).\n",
        "- 3 = context size (3 characters per example).\n",
        "- So each entry of X is an integer in [0..26] representing a character.\n",
        "\n",
        "When we index into C with a tensor of indices, PyTorch does fancy indexing:\n",
        "- For every index in X, it grabs the corresponding row from C.\n",
        "- Since each row in C has shape (2,), the output shape is just X.shape + (2,).\n",
        "\n",
        "So,\n",
        "\n",
        "```\n",
        "X.shape = (32, 3)\n",
        "C.shape = (27, 2)\n",
        "C[X].shape = (32, 3, 2)\n",
        "```\n",
        "\n",
        "\n",
        "C[X] is now:\n",
        "\n",
        "- Batch of 32 examples.\n",
        "- Each example has 3 characters (context).\n",
        "- Each character is represented by a 2-dimensional embedding.\n",
        "\n",
        "\n",
        "\n",
        "\n",
        "> Doing C[X] means: for every integer in X, grab the corresponding row from C.\n",
        "\n"
      ],
      "metadata": {
        "id": "y499iXfvetNk"
      }
    },
    {
      "cell_type": "code",
      "source": [
        "X[13, 2] # integer 1"
      ],
      "metadata": {
        "colab": {
          "base_uri": "https://localhost:8080/"
        },
        "id": "WGfgkMDcCPtT",
        "outputId": "13000f67-7668-496e-9a8b-e6ebff1d7fc4"
      },
      "execution_count": null,
      "outputs": [
        {
          "output_type": "execute_result",
          "data": {
            "text/plain": [
              "tensor(1)"
            ]
          },
          "metadata": {},
          "execution_count": 96
        }
      ]
    },
    {
      "cell_type": "code",
      "source": [
        "print(C[X][13][2])\n",
        "C[1] == C[X][13][2]"
      ],
      "metadata": {
        "colab": {
          "base_uri": "https://localhost:8080/"
        },
        "id": "4uTC7fe6Cgip",
        "outputId": "d32a623f-8597-4915-a69e-67623bc338b5"
      },
      "execution_count": null,
      "outputs": [
        {
          "output_type": "stream",
          "name": "stdout",
          "text": [
            "tensor([-0.6399, -0.1843])\n"
          ]
        },
        {
          "output_type": "execute_result",
          "data": {
            "text/plain": [
              "tensor([True, True])"
            ]
          },
          "metadata": {},
          "execution_count": 97
        }
      ]
    },
    {
      "cell_type": "code",
      "source": [
        "emb = C[X]\n",
        "emb.shape"
      ],
      "metadata": {
        "colab": {
          "base_uri": "https://localhost:8080/"
        },
        "id": "9WJ-RcOBCimD",
        "outputId": "7f298064-c900-4ab6-fd28-b4812a3fe5d7"
      },
      "execution_count": null,
      "outputs": [
        {
          "output_type": "execute_result",
          "data": {
            "text/plain": [
              "torch.Size([32, 3, 2])"
            ]
          },
          "metadata": {},
          "execution_count": 98
        }
      ]
    },
    {
      "cell_type": "code",
      "source": [
        "# hidden layer weights\n",
        "# we have two-dimensional embeddings and we have three of them, so the input to the hidden layer will be 3 * 2\n",
        "W1 = torch.randn((6, 100)) # 100 is something we've decided\n",
        "b1 = torch.randn(100)"
      ],
      "metadata": {
        "id": "z6NHI_R7DEUw"
      },
      "execution_count": null,
      "outputs": []
    },
    {
      "cell_type": "code",
      "source": [
        "# we can't simply do emb @ W1 because the embeddings are stacked in the input tensor emb\n",
        "# we can't matmul (32,3,2) and (6,100)\n",
        "# somehow we need to concatenate"
      ],
      "metadata": {
        "id": "mzm4vxVyEofP"
      },
      "execution_count": null,
      "outputs": []
    },
    {
      "cell_type": "code",
      "source": [
        "def explore_options_to_concat():\n",
        "  temp = emb\n",
        "  # bad option, because it doesn't generalize. right now, we have three inputs, but if that changes, we'd have to rewrite\n",
        "  one = torch.concat([temp[:, 0, :], temp[:, 1, :], temp[:, 2, :]], 1) # concat around dimension 1\n",
        "  print(one.shape)\n",
        "\n",
        "  # a much more general solution but highly inefficient because torch.unbind() creates a new tensor with a whole new storage\n",
        "  torch.unbind(temp, 1) # list of tensors which is equivalent to the list [temp[:, 0, :], temp[:, 1, :], temp[:, 2, :]]\n",
        "  two = torch.cat(torch.unbind(temp, 1), 1)\n",
        "  print(two.shape)\n",
        "  print('------------------------------------')\n",
        "  a = torch.arange(18)\n",
        "  print(a.shape)\n",
        "  # we can represent this as different sized n-dimensional tensors as long as number of elements are the same\n",
        "\n",
        "  view_1= a.view(2,9) # our way of saying this is a 2 x 9 tensor\n",
        "  print(view_1.shape)\n",
        "  view_2= a.view(3,3,2)\n",
        "  print(view_2.shape)\n",
        "\n",
        "explore_options_to_concat()"
      ],
      "metadata": {
        "colab": {
          "base_uri": "https://localhost:8080/"
        },
        "id": "RvDMFMi9E0Zy",
        "outputId": "30662992-d185-4393-8bfd-275b4f9d8070"
      },
      "execution_count": null,
      "outputs": [
        {
          "output_type": "stream",
          "name": "stdout",
          "text": [
            "torch.Size([32, 6])\n",
            "torch.Size([32, 6])\n",
            "------------------------------------\n",
            "torch.Size([18])\n",
            "torch.Size([2, 9])\n",
            "torch.Size([3, 3, 2])\n"
          ]
        }
      ]
    },
    {
      "cell_type": "code",
      "source": [
        "# within a torch, all elements are stored in a 1-D vector in an underlying storage\n",
        "# when we call view, we are changing some attributes (storage offset, stride, shape) of the tensor and these dictate how the sequence is interpreted as an N-dimensional vector\n",
        "# no elements are moved, copied so it's extremely efficient"
      ],
      "metadata": {
        "id": "ssNtHPN7TFlg"
      },
      "execution_count": null,
      "outputs": []
    },
    {
      "cell_type": "markdown",
      "source": [
        "# Understanding Pytorch Storage\n",
        "\n",
        "**Pytorch uses row-major ordering**\n",
        "- Store elements left-to-right across the row first, then move to the next row.\n",
        "\n",
        "\n",
        "\n",
        "---\n",
        "\n",
        "###  How do dimensions appear? (Shape + Stride)\n",
        "\n",
        "\n",
        "Assume the underlying storage,\n",
        "\n",
        "```\n",
        "x = [1, 2, 3, 4, 5, 6]\n",
        "```\n",
        "\n",
        "Every tensor has:\n",
        "- storage: the raw 1-D array of numbers.\n",
        "- metadata: shape + strides (more below).\n",
        "\n",
        "\n",
        "PyTorch uses strides to know how to interpret that 1-D storage.\n",
        "\n",
        "**Shape** = logical dimensions (e.g. (2, 3) for 2 rows, 3 columns).\n",
        "\n",
        "**Stride** = how many steps in the 1-D storage to move when you increment an index along each axis.\n",
        "\n",
        "```\n",
        "x.shape = (2, 3)\n",
        "x.stride = (3, 1)\n",
        "```\n",
        "- To move down one row: jump 3 elements in storage.\n",
        "- To move across one column: jump 1 element.\n",
        "\n",
        "So:\n",
        "\n",
        "\n",
        "```\n",
        "x[0,0] → storage[0] = 1\n",
        "x[0,1] → storage[1] = 2\n",
        "x[1,0] → storage[3] = 4\n",
        "```\n",
        "\n",
        "\n",
        "### Why this matters\n",
        "\n",
        "- Efficiency: All tensors live in a single flat buffer → easy for CUDA kernels.\n",
        "- Flexibility: Strides let us “pretend” the tensor is transposed, sliced, or reshaped without moving data."
      ],
      "metadata": {
        "id": "LFOExpwbhmoP"
      }
    },
    {
      "cell_type": "code",
      "source": [
        "emb.shape"
      ],
      "metadata": {
        "colab": {
          "base_uri": "https://localhost:8080/"
        },
        "id": "R9CwFmoHUdic",
        "outputId": "d16f7fe8-b84e-4bd1-f018-aa37aedb4c73"
      },
      "execution_count": null,
      "outputs": [
        {
          "output_type": "execute_result",
          "data": {
            "text/plain": [
              "torch.Size([32, 3, 2])"
            ]
          },
          "metadata": {},
          "execution_count": 103
        }
      ]
    },
    {
      "cell_type": "code",
      "source": [
        "emb.view(32,6).shape"
      ],
      "metadata": {
        "colab": {
          "base_uri": "https://localhost:8080/"
        },
        "id": "WHC3RrMlU1gN",
        "outputId": "f5039c05-4495-4fd3-a07e-c50bfaea5b67"
      },
      "execution_count": null,
      "outputs": [
        {
          "output_type": "execute_result",
          "data": {
            "text/plain": [
              "torch.Size([32, 6])"
            ]
          },
          "metadata": {},
          "execution_count": 104
        }
      ]
    },
    {
      "cell_type": "code",
      "source": [
        "\n",
        "# option 1: emb.view(32, 6) @ W1 + b1 # but we don't want to hardcode 32\n",
        "# option 2: emb.view(emb.shape[0], 6) @ W1 + b1\n",
        "# option 3:\n",
        "h = emb.view(-1, 6) @ W1 + b1 # pytorch will infer what -1 should be since number of elements should be the same\n",
        "h = torch.tanh(h)\n",
        "h.shape\n",
        "\n",
        "\n",
        "# the addition of b1 forces us to examine broadcasting\n",
        "\"\"\"\n",
        "t1: (32,100)\n",
        "t2: (  ,100)\n",
        "\n",
        "t1: (32,100)\n",
        "t2: (1, 100) # it will then copy vertically for every 32 rows; correct because same bias vector will be added for all 32 inputs\n",
        "\"\"\"\n",
        "# 32, 100 and 100"
      ],
      "metadata": {
        "colab": {
          "base_uri": "https://localhost:8080/",
          "height": 52
        },
        "id": "m7UZ_1bvU3mP",
        "outputId": "ea6d18dc-8be6-47fd-93eb-2d2b8e31f5cd"
      },
      "execution_count": null,
      "outputs": [
        {
          "output_type": "execute_result",
          "data": {
            "text/plain": [
              "'\\nt1: (32,100)\\nt2: (  ,100) \\n\\nt1: (32,100)\\nt2: (1, 100) # it will then copy vertically for every 32 rows; correct because same bias vector will be added for all 32 inputs\\n'"
            ],
            "application/vnd.google.colaboratory.intrinsic+json": {
              "type": "string"
            }
          },
          "metadata": {},
          "execution_count": 105
        }
      ]
    },
    {
      "cell_type": "code",
      "source": [
        "W2 = torch.randn((100, 27)) # we have 27 possible characters\n",
        "b2 = torch.randn(27)"
      ],
      "metadata": {
        "id": "Sqe4Q_XMVXNm"
      },
      "execution_count": null,
      "outputs": []
    },
    {
      "cell_type": "code",
      "source": [
        "logits = h @ W2 + b2"
      ],
      "metadata": {
        "id": "oJ-vbi-wWV4y"
      },
      "execution_count": null,
      "outputs": []
    },
    {
      "cell_type": "code",
      "source": [
        "logits.shape"
      ],
      "metadata": {
        "colab": {
          "base_uri": "https://localhost:8080/"
        },
        "id": "xMLdrodpWYA1",
        "outputId": "23e6bb28-cd91-4613-f491-2a2a24c52cc9"
      },
      "execution_count": null,
      "outputs": [
        {
          "output_type": "execute_result",
          "data": {
            "text/plain": [
              "torch.Size([32, 27])"
            ]
          },
          "metadata": {},
          "execution_count": 108
        }
      ]
    },
    {
      "cell_type": "code",
      "source": [
        "counts = logits.exp()\n",
        "prob = counts / counts.sum(1, keepdim=True)"
      ],
      "metadata": {
        "id": "FF9afvt5WYuN"
      },
      "execution_count": null,
      "outputs": []
    },
    {
      "cell_type": "code",
      "source": [
        "prob.shape"
      ],
      "metadata": {
        "colab": {
          "base_uri": "https://localhost:8080/"
        },
        "id": "HgMcDLkbWgLY",
        "outputId": "e375ef3f-a634-4223-9823-9846d6300d72"
      },
      "execution_count": null,
      "outputs": [
        {
          "output_type": "execute_result",
          "data": {
            "text/plain": [
              "torch.Size([32, 27])"
            ]
          },
          "metadata": {},
          "execution_count": 110
        }
      ]
    },
    {
      "cell_type": "code",
      "source": [
        "prob[0].sum()"
      ],
      "metadata": {
        "colab": {
          "base_uri": "https://localhost:8080/"
        },
        "id": "NB8-yY--WhAe",
        "outputId": "dc5c4118-f70e-459f-85d5-02070632c9b3"
      },
      "execution_count": null,
      "outputs": [
        {
          "output_type": "execute_result",
          "data": {
            "text/plain": [
              "tensor(1.0000)"
            ]
          },
          "metadata": {},
          "execution_count": 111
        }
      ]
    },
    {
      "cell_type": "code",
      "source": [
        "# we'd now like to index into prob and pluck out the probability associated with the index provided by our groud truth Y"
      ],
      "metadata": {
        "id": "_5DlzccPWiZ7"
      },
      "execution_count": null,
      "outputs": []
    },
    {
      "cell_type": "code",
      "source": [
        "torch.arange(32) # iterator over 0 to 31"
      ],
      "metadata": {
        "colab": {
          "base_uri": "https://localhost:8080/"
        },
        "id": "sEokfeZWWwL1",
        "outputId": "e53e5ae7-6937-4a3e-e744-be8bcafc5121"
      },
      "execution_count": null,
      "outputs": [
        {
          "output_type": "execute_result",
          "data": {
            "text/plain": [
              "tensor([ 0,  1,  2,  3,  4,  5,  6,  7,  8,  9, 10, 11, 12, 13, 14, 15, 16, 17,\n",
              "        18, 19, 20, 21, 22, 23, 24, 25, 26, 27, 28, 29, 30, 31])"
            ]
          },
          "metadata": {},
          "execution_count": 113
        }
      ]
    },
    {
      "cell_type": "code",
      "source": [
        "loss = -prob[torch.arange(32), Y].log().mean()"
      ],
      "metadata": {
        "id": "NFwIWIbMWyCC"
      },
      "execution_count": null,
      "outputs": []
    },
    {
      "cell_type": "code",
      "source": [
        "loss"
      ],
      "metadata": {
        "colab": {
          "base_uri": "https://localhost:8080/"
        },
        "id": "PoRNuLrPW4fR",
        "outputId": "248d6942-e65c-4e3d-fc92-a087f36fb3bc"
      },
      "execution_count": null,
      "outputs": [
        {
          "output_type": "execute_result",
          "data": {
            "text/plain": [
              "tensor(17.7314)"
            ]
          },
          "metadata": {},
          "execution_count": 115
        }
      ]
    },
    {
      "cell_type": "code",
      "source": [
        "# ------------------ now made respectable --------------------------------"
      ],
      "metadata": {
        "id": "YhpwcbW5XuAQ"
      },
      "execution_count": null,
      "outputs": []
    },
    {
      "cell_type": "code",
      "source": [
        "Xtr.shape, Ytr.shape"
      ],
      "metadata": {
        "colab": {
          "base_uri": "https://localhost:8080/"
        },
        "id": "qR9TvHQsXD1i",
        "outputId": "59d2b1c6-ac83-4156-feb9-611ab3c7e230"
      },
      "execution_count": null,
      "outputs": [
        {
          "output_type": "execute_result",
          "data": {
            "text/plain": [
              "(torch.Size([182625, 3]), torch.Size([182625]))"
            ]
          },
          "metadata": {},
          "execution_count": 228
        }
      ]
    },
    {
      "cell_type": "code",
      "source": [
        "g = torch.Generator().manual_seed(2147483647)\n",
        "C = torch.randn((27, 10), generator = g) # previously, this was 2-dimensional\n",
        "W1 = torch.randn((30,200), generator = g)\n",
        "b1 = torch.randn(200, generator = g)\n",
        "W2 = torch.randn((200, 27), generator = g)\n",
        "b2 = torch.randn(27, generator = g)\n",
        "parameters = [C, W1, b1, W2, b2]"
      ],
      "metadata": {
        "id": "5M4rNUH8XqCN"
      },
      "execution_count": null,
      "outputs": []
    },
    {
      "cell_type": "code",
      "source": [
        "sum(p.nelement() for p in parameters) # number of parameters in total"
      ],
      "metadata": {
        "colab": {
          "base_uri": "https://localhost:8080/"
        },
        "id": "K1EH8p-tYIOV",
        "outputId": "66b44288-e344-472f-f8bb-46e0fe9a1f44"
      },
      "execution_count": null,
      "outputs": [
        {
          "output_type": "execute_result",
          "data": {
            "text/plain": [
              "11897"
            ]
          },
          "metadata": {},
          "execution_count": 265
        }
      ]
    },
    {
      "cell_type": "code",
      "source": [
        "for p in parameters:\n",
        "  p.requires_grad = True"
      ],
      "metadata": {
        "id": "TxLFoS0Dlk_H"
      },
      "execution_count": null,
      "outputs": []
    },
    {
      "cell_type": "code",
      "source": [
        "# this creates 32 integers that index into our input dataset X\n",
        "torch.randint(0, X.shape[0], (32,))"
      ],
      "metadata": {
        "colab": {
          "base_uri": "https://localhost:8080/"
        },
        "id": "6t1w6RFLp2wV",
        "outputId": "12dd58fc-30de-4326-91b7-3e9198a9190c"
      },
      "execution_count": null,
      "outputs": [
        {
          "output_type": "execute_result",
          "data": {
            "text/plain": [
              "tensor([ 56452,  51606, 209408, 118298,  21201, 223285, 173426, 102476, 173610,\n",
              "        162735,  19065, 180193,  70734, 135550, 188619, 148778,  56044,  30077,\n",
              "         13311, 175047,  26368, 145787, 206136, 111100,  33311,  86589,  61138,\n",
              "        186960,  84361,   5200,  32692, 139395])"
            ]
          },
          "metadata": {},
          "execution_count": 267
        }
      ]
    },
    {
      "cell_type": "code",
      "source": [
        "# learning rate exponent because it doesn't make sense to walk over linerly\n",
        "lre = torch.linspace(-3 , 0, 1000) # creates 1000 numbers between the asked range\n",
        "lrs = 10**lre\n",
        "lrs[990:]"
      ],
      "metadata": {
        "colab": {
          "base_uri": "https://localhost:8080/"
        },
        "id": "0Xqmb33Aqs45",
        "outputId": "4e3f2cc5-0fa3-4fbb-9af4-63b783e29f1d"
      },
      "execution_count": null,
      "outputs": [
        {
          "output_type": "execute_result",
          "data": {
            "text/plain": [
              "tensor([0.9397, 0.9462, 0.9528, 0.9594, 0.9660, 0.9727, 0.9795, 0.9863, 0.9931,\n",
              "        1.0000])"
            ]
          },
          "metadata": {},
          "execution_count": 268
        }
      ]
    },
    {
      "cell_type": "code",
      "source": [
        "# in practise, people run training on mini-batches rather than the entire batch at once\n",
        "# what we want to do is randomly select a portition of the dataset"
      ],
      "metadata": {
        "id": "yGdjAdNQp5nY"
      },
      "execution_count": null,
      "outputs": []
    },
    {
      "cell_type": "code",
      "source": [
        "lri = []\n",
        "lossi = []\n",
        "stepi = []\n",
        "for i in range(50000):\n",
        "  # mini batch construct\n",
        "  ix = torch.randint(0, Xtr.shape[0], (32, ))\n",
        "  # the quality of our gradient is lower due to mini-matches, it is not the actual gradient direction\n",
        "  # we want to minimize the loss function over the whole dataset, so the true gradient is defined over the entire dataset\n",
        "  #   but it is good enough\n",
        "  #   it is much better to have an approximate gradient and take more steps than to calculate the exact gradient and take fewer steps\n",
        "  # -------------------------\n",
        "  # forward pass\n",
        "  # only get 32 rows of x\n",
        "  emb = C[X[ix]] # only index those rows that have been chosen for the mini batch, (32,3,2)\n",
        "  h = torch.tanh(emb.view(-1,30) @ W1 + b1) # (32, 100)\n",
        "  logits = h @ W2 + b2\n",
        "  loss = F.cross_entropy(logits, Ytr[ix])\n",
        "  # print(loss.item())\n",
        "  # backprop\n",
        "  for p in parameters:\n",
        "    p.grad = None\n",
        "  loss.backward()\n",
        "  for p in parameters:\n",
        "    p.data += -0.01 * p.grad\n",
        "    # p.data += - lrs[i] *p.grad\n",
        "  # commenting these out because we're now confident that a good lr rate is 0.1\n",
        "  #lri.append(lre[i])\n",
        "  stepi.append(i)\n",
        "  lossi.append(loss.log10().item())\n",
        "print(loss.item()) # just the loss of mini-batch"
      ],
      "metadata": {
        "colab": {
          "base_uri": "https://localhost:8080/"
        },
        "id": "pbPm1KqhYNqm",
        "outputId": "9aacc980-8bd2-45b5-f247-c5ea3e2cda6f"
      },
      "execution_count": null,
      "outputs": [
        {
          "output_type": "stream",
          "name": "stdout",
          "text": [
            "2.1504201889038086\n"
          ]
        }
      ]
    },
    {
      "cell_type": "code",
      "source": [
        "plt.plot(stepi, lossi)"
      ],
      "metadata": {
        "colab": {
          "base_uri": "https://localhost:8080/",
          "height": 447
        },
        "id": "xZmFQclBzLsX",
        "outputId": "db4385ae-5baf-4dd6-a0a8-acdd962a35e0"
      },
      "execution_count": null,
      "outputs": [
        {
          "output_type": "execute_result",
          "data": {
            "text/plain": [
              "[<matplotlib.lines.Line2D at 0x7b8eb56f26c0>]"
            ]
          },
          "metadata": {},
          "execution_count": 270
        },
        {
          "output_type": "display_data",
          "data": {
            "text/plain": [
              "<Figure size 640x480 with 1 Axes>"
            ],
            "image/png": "[encoded data removed]"
          },
          "metadata": {}
        }
      ]
    },
    {
      "cell_type": "code",
      "source": [
        "# loss over the entire dataset, dev set for evaluation\n",
        "emb = C[Xdev] # only index those rows that have been chosen for the mini batch, (32,3,2)\n",
        "h = torch.tanh(emb.view(-1, 30) @ W1 + b1) # (32, 100)\n",
        "logits = h @ W2 + b2\n",
        "loss = F.cross_entropy(logits, Ydev)\n",
        "print(loss) # full sense of how the model is performing\n",
        "\n",
        "# one probable reason why the model is not performing too well could be that our embedding is 2-dimensional"
      ],
      "metadata": {
        "colab": {
          "base_uri": "https://localhost:8080/"
        },
        "id": "Gs3z4n1Fp-OU",
        "outputId": "1714cab4-35ae-419d-a671-29488dc9e036"
      },
      "execution_count": null,
      "outputs": [
        {
          "output_type": "stream",
          "name": "stdout",
          "text": [
            "tensor(2.2016, grad_fn=<NllLossBackward0>)\n"
          ]
        }
      ]
    },
    {
      "cell_type": "code",
      "source": [
        "# visualizing the embeddings learned by the network. right now, we have 2-dimensional embeddings so it's easy to visualize\n",
        "plt.figure(figsize=(8,8))\n",
        "plt.scatter(C[:, 0].data, C[:,1].data, s=200)\n",
        "for i in range(C.shape[0]):\n",
        "  plt.text(C[i,0].item(), C[i,1].item(), itos[i], ha=\"center\", va=\"center\", color=\"white\")\n",
        "plt.grid(\"minor\")"
      ],
      "metadata": {
        "colab": {
          "base_uri": "https://localhost:8080/",
          "height": 676
        },
        "id": "3xuKDWD10BNK",
        "outputId": "93ac9843-d381-4230-833c-d83236541d3e"
      },
      "execution_count": null,
      "outputs": [
        {
          "output_type": "display_data",
          "data": {
            "text/plain": [
              "<Figure size 800x800 with 1 Axes>"
            ],
            "image/png": "[encoded data removed]"
          },
          "metadata": {}
        }
      ]
    },
    {
      "cell_type": "code",
      "source": [
        "plt.plot(lri, lossi)"
      ],
      "metadata": {
        "colab": {
          "base_uri": "https://localhost:8080/",
          "height": 447
        },
        "id": "eiV2HBUir8Xb",
        "outputId": "31845a69-343b-42db-be3d-56892c263068"
      },
      "execution_count": null,
      "outputs": [
        {
          "output_type": "execute_result",
          "data": {
            "text/plain": [
              "[<matplotlib.lines.Line2D at 0x7b8eb4e0de20>]"
            ]
          },
          "metadata": {},
          "execution_count": 214
        },
        {
          "output_type": "display_data",
          "data": {
            "text/plain": [
              "<Figure size 640x480 with 1 Axes>"
            ],
            "image/png": "[encoded data removed]"
          },
          "metadata": {}
        }
      ]
    },
    {
      "cell_type": "code",
      "source": [
        "# below code was only for educational reasons and is highly inefficient as new tensors are created\n",
        "#   counts = logits.exp()\n",
        "#   prob = counts / counts.sum(1, keepdim = True)\n",
        "#   loss = -prob[torch.arange(32), Y].log().mean()\n",
        "\n",
        "# moreover, manually handling exp() can cause us to overflow and encounter situations where values are inf or nan\n",
        "\n",
        "logits = torch.tensor([-500, -3, 0, 500])\n",
        "counts = logits.exp()\n",
        "probs = counts / counts.sum()\n",
        "probs"
      ],
      "metadata": {
        "colab": {
          "base_uri": "https://localhost:8080/"
        },
        "id": "pBLtsmzwYhBp",
        "outputId": "0a114d10-a6c9-405d-837d-4f0e55c6c237"
      },
      "execution_count": null,
      "outputs": [
        {
          "output_type": "execute_result",
          "data": {
            "text/plain": [
              "tensor([0., 0., 0., nan])"
            ]
          },
          "metadata": {},
          "execution_count": 134
        }
      ]
    },
    {
      "cell_type": "code",
      "source": [
        "# for very large positive numbers in our logits, we get nan because exp becomes infinite\n",
        "# pytorch solves this internally for us, especially the cross entropy function by offsetting the values\n",
        "\n",
        "# with exp, negative values are fine, since they become close to 0. for very large positive values, pytorch finds the highest value in the tensor, and offsets each value by that\n",
        "# since we care only about probability, it doesn't matter\n",
        "logits = torch.tensor([-500, -3, 0, 500]) - 500\n",
        "counts = logits.exp()\n",
        "probs = counts / counts.sum()\n",
        "probs"
      ],
      "metadata": {
        "colab": {
          "base_uri": "https://localhost:8080/"
        },
        "id": "8Pb1c_S1ZLyE",
        "outputId": "eed60686-c391-49ab-f3d1-d92605fae757"
      },
      "execution_count": null,
      "outputs": [
        {
          "output_type": "execute_result",
          "data": {
            "text/plain": [
              "tensor([0., 0., 0., 1.])"
            ]
          },
          "metadata": {},
          "execution_count": 135
        }
      ]
    },
    {
      "cell_type": "code",
      "source": [
        "# what we're doing right now is overfitting a very small batch and getting low loss\n",
        "# too many parameters for too few inputs"
      ],
      "metadata": {
        "id": "DE1RUzB-all0"
      },
      "execution_count": null,
      "outputs": []
    },
    {
      "cell_type": "code",
      "source": [
        "logits.max(1)"
      ],
      "metadata": {
        "colab": {
          "base_uri": "https://localhost:8080/"
        },
        "id": "RNbGSfOtme6c",
        "outputId": "3c473dad-0c6d-42a1-fe42-5d228f6e8333"
      },
      "execution_count": null,
      "outputs": [
        {
          "output_type": "execute_result",
          "data": {
            "text/plain": [
              "torch.return_types.max(\n",
              "values=tensor([12.9837, 16.7995, 20.1492, 19.9484, 16.0426, 12.9837, 15.3000, 13.6362,\n",
              "        15.3570, 17.6298, 15.1746, 20.2089, 12.9837, 16.2662, 16.4220, 19.2717,\n",
              "        12.9837, 15.7248, 14.3059, 16.2198, 17.9727, 15.1780, 10.1905, 10.0803,\n",
              "        15.0652, 12.9837, 15.6679, 16.2866, 12.3106, 15.7375, 18.3005, 15.0868],\n",
              "       grad_fn=<MaxBackward0>),\n",
              "indices=tensor([ 9, 13, 13,  1,  0,  9, 12,  9, 22,  9,  1,  0,  9, 22,  1,  0,  9, 19,\n",
              "         1,  2,  5, 12, 12,  1,  0,  9, 15, 16,  8,  9,  1,  0]))"
            ]
          },
          "metadata": {},
          "execution_count": 153
        }
      ]
    },
    {
      "cell_type": "code",
      "source": [
        "Y"
      ],
      "metadata": {
        "colab": {
          "base_uri": "https://localhost:8080/"
        },
        "id": "xKscu4LJmf1U",
        "outputId": "ce706dad-29e6-432b-e70f-3b431c188a9f"
      },
      "execution_count": null,
      "outputs": [
        {
          "output_type": "execute_result",
          "data": {
            "text/plain": [
              "tensor([ 5, 13, 13,  1,  0, 15, 12,  9, 22,  9,  1,  0,  1, 22,  1,  0,  9, 19,\n",
              "         1,  2,  5, 12, 12,  1,  0, 19, 15, 16,  8,  9,  1,  0])"
            ]
          },
          "metadata": {},
          "execution_count": 154
        }
      ]
    },
    {
      "cell_type": "code",
      "source": [
        "# we are not able to get the loss to 0 because the input data set has contradictory expecations\n",
        "# for '...', we expect 'e' in \"emma\"\n",
        "# for '...', we expect 'o' in \"olivia\""
      ],
      "metadata": {
        "id": "Y9-tm2WPmgNb"
      },
      "execution_count": null,
      "outputs": []
    },
    {
      "cell_type": "code",
      "source": [
        "# training split, dev/validation split, test split\n",
        "# 80%, 10%, 10%\n",
        "# if a model has a large number of parameters, it is pretty easy for it to memorize the input dataset"
      ],
      "metadata": {
        "id": "9gspqoKtoDty"
      },
      "execution_count": null,
      "outputs": []
    },
    {
      "cell_type": "code",
      "source": [
        "# sample from the model\n",
        "g = torch.Generator().manual_seed(2147483647 + 10)\n",
        "for _ in range(20):\n",
        "  out = []\n",
        "  context = [0] * block_size\n",
        "  while True:\n",
        "    emb = C[torch.tensor([context])] # embed the current context (1, block_size, d)\n",
        "    h = torch.tanh(emb.view(1, -1) @ W1 + b1)\n",
        "    logits = h @ W2 + b2\n",
        "    probs = F.softmax(logits, dim = 1)\n",
        "    ix = torch.multinomial(probs, num_samples = 1, replacement=True, generator = g).item()\n",
        "    context = context[1:] + [ix]\n",
        "    out.append(ix)\n",
        "    if ix == 0:\n",
        "      break\n",
        "  print(''.join(itos[i] for i in out))"
      ],
      "metadata": {
        "colab": {
          "base_uri": "https://localhost:8080/"
        },
        "id": "UaCNn8pi0AMe",
        "outputId": "3ab7e56d-e420-4329-95e1-f64493069177"
      },
      "execution_count": null,
      "outputs": [
        {
          "output_type": "stream",
          "name": "stdout",
          "text": [
            "carmah.\n",
            "amelle.\n",
            "khiemri.\n",
            "revick.\n",
            "kanden.\n",
            "jazonen.\n",
            "dellynn.\n",
            "kaeli.\n",
            "nellara.\n",
            "chaiiv.\n",
            "kaleky.\n",
            "dham.\n",
            "jory.\n",
            "quint.\n",
            "shonne.\n",
            "livani.\n",
            "wanelo.\n",
            "dearynix.\n",
            "kaelynn.\n",
            "deley.\n"
          ]
        }
      ]
    },
    {
      "cell_type": "code",
      "source": [],
      "metadata": {
        "id": "Y38AQap23Kal"
      },
      "execution_count": null,
      "outputs": []
    }
  ]
}